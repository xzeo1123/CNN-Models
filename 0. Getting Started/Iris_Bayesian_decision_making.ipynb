{
 "cells": [
  {
   "cell_type": "markdown",
   "metadata": {},
   "source": [
    "# (1) import libraries"
   ]
  },
  {
   "cell_type": "code",
   "execution_count": 1,
   "metadata": {},
   "outputs": [],
   "source": [
    "from sklearn import datasets\n",
    "from sklearn.naive_bayes import GaussianNB\n",
    "\n",
    "import numpy as np\n",
    "import time"
   ]
  },
  {
   "cell_type": "markdown",
   "metadata": {},
   "source": [
    "# (2) preparing iris dataset"
   ]
  },
  {
   "cell_type": "code",
   "execution_count": 2,
   "metadata": {},
   "outputs": [
    {
     "name": "stdout",
     "output_type": "stream",
     "text": [
      "(90, 4)\n",
      "(90,)\n",
      "(60, 4)\n",
      "(60,)\n"
     ]
    }
   ],
   "source": [
    "iris = datasets.load_iris()\n",
    "\n",
    "# get training and testing indexes randomly\n",
    "train_indx = np.random.choice(range(0, 150), int(iris.target.shape[0]/100*60), replace=False)\n",
    "test_indx = np.array([indx for indx in np.arange(0, 150, 1) if indx not in train_indx])\n",
    "\n",
    "x_train = iris.data[train_indx, :]\n",
    "y_train = iris.target[train_indx]\n",
    "\n",
    "x_test = iris.data[test_indx, :]\n",
    "y_test = iris.target[test_indx]\n",
    "\n",
    "print(x_train.shape)\n",
    "print(y_train.shape)\n",
    "print(x_test.shape)\n",
    "print(y_test.shape)"
   ]
  },
  {
   "cell_type": "markdown",
   "metadata": {},
   "source": [
    "# (3) parameters estimation"
   ]
  },
  {
   "cell_type": "code",
   "execution_count": 7,
   "metadata": {
    "scrolled": false
   },
   "outputs": [
    {
     "name": "stdout",
     "output_type": "stream",
     "text": [
      "[4.96896552 3.43103448 1.41724138 0.23103448]\n",
      "[[0.15435961 0.14028325 0.02198276 0.01135468]\n",
      " [0.14028325 0.20578818 0.01408867 0.01114532]\n",
      " [0.02198276 0.01408867 0.02433498 0.00337438]\n",
      " [0.01135468 0.01114532 0.00337438 0.00793103]]\n",
      "[5.89677419 2.78387097 4.22580645 1.32903226]\n",
      "[[0.26765591 0.0816129  0.18841935 0.05043011]\n",
      " [0.0816129  0.09939785 0.08276344 0.0388172 ]\n",
      " [0.18841935 0.08276344 0.22664516 0.06789247]\n",
      " [0.05043011 0.0388172  0.06789247 0.03612903]]\n",
      "[6.69       3.00666667 5.59333333 2.        ]\n",
      "[[0.34231034 0.12455172 0.27475862 0.04034483]\n",
      " [0.12455172 0.12478161 0.11590805 0.05758621]\n",
      " [0.27475862 0.11590805 0.29788506 0.05724138]\n",
      " [0.04034483 0.05758621 0.05724138 0.07448276]]\n"
     ]
    }
   ],
   "source": [
    "mu_0 = np.mean(x_train[y_train == 0], axis=0)\n",
    "sigma_0 = np.cov(x_train[y_train == 0], rowvar=0)\n",
    "print(mu_0)\n",
    "print(sigma_0)\n",
    "\n",
    "mu_1 = np.mean(x_train[y_train == 1], axis=0)\n",
    "sigma_1 = np.cov(x_train[y_train == 1], rowvar=0)\n",
    "print(mu_1)\n",
    "print(sigma_1)\n",
    "\n",
    "mu_2 = np.mean(x_train[y_train == 2], axis=0)\n",
    "sigma_2 = np.cov(x_train[y_train == 2], rowvar=0)\n",
    "print(mu_2)\n",
    "print(sigma_2)"
   ]
  },
  {
   "cell_type": "markdown",
   "metadata": {},
   "source": [
    "# (4) bayesian decision making"
   ]
  },
  {
   "cell_type": "code",
   "execution_count": 5,
   "metadata": {},
   "outputs": [
    {
     "name": "stdout",
     "output_type": "stream",
     "text": [
      "Testing classification accuracy: 0.9667\n"
     ]
    }
   ],
   "source": [
    "gnb = GaussianNB()\n",
    "\n",
    "y_pred = gnb.fit(x_train, y_train).predict(x_test)\n",
    "print('Testing classification accuracy: %.4f' % ((y_test == y_pred).sum()/x_test.shape[0]))"
   ]
  },
  {
   "cell_type": "code",
   "execution_count": null,
   "metadata": {},
   "outputs": [],
   "source": []
  }
 ],
 "metadata": {
  "anaconda-cloud": {},
  "kernelspec": {
   "display_name": "Python [conda root]",
   "language": "python",
   "name": "conda-root-py"
  },
  "language_info": {
   "codemirror_mode": {
    "name": "ipython",
    "version": 3
   },
   "file_extension": ".py",
   "mimetype": "text/x-python",
   "name": "python",
   "nbconvert_exporter": "python",
   "pygments_lexer": "ipython3",
   "version": "3.5.1"
  }
 },
 "nbformat": 4,
 "nbformat_minor": 2
}
