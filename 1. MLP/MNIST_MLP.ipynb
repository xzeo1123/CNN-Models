{
 "cells": [
  {
   "cell_type": "code",
   "execution_count": 1,
   "metadata": {},
   "outputs": [],
   "source": [
    "# Demo"
   ]
  },
  {
   "cell_type": "markdown",
   "metadata": {},
   "source": [
    "# Overview\n",
    "- MNIST dataset\n",
    "  + Goal: recognizing handwritten digits\n",
    "  + Input: a 28x28 image\n",
    "  + Output: class label (0, 1,..., 9)\n",
    "- Defining an MLP for MNIST\n",
    "- Training and evaluating an MLP"
   ]
  },
  {
   "cell_type": "markdown",
   "metadata": {},
   "source": [
    "# Import libraries"
   ]
  },
  {
   "cell_type": "code",
   "execution_count": 2,
   "metadata": {},
   "outputs": [
    {
     "name": "stderr",
     "output_type": "stream",
     "text": [
      "C:\\Program Files\\Anaconda3\\lib\\site-packages\\h5py\\__init__.py:36: FutureWarning: Conversion of the second argument of issubdtype from `float` to `np.floating` is deprecated. In future, it will be treated as `np.float64 == np.dtype(float).type`.\n",
      "  from ._conv import register_converters as _register_converters\n",
      "Using TensorFlow backend.\n"
     ]
    }
   ],
   "source": [
    "import keras\n",
    "from keras.datasets import mnist\n",
    "from keras.models import Model\n",
    "from keras.layers import Input, Flatten, Dense, Dropout\n",
    "from keras.optimizers import SGD\n",
    "\n",
    "from IPython.display import SVG\n",
    "from keras.utils.vis_utils import model_to_dot\n",
    "\n",
    "import time\n",
    "import numpy as np\n",
    "import matplotlib.pyplot as plt"
   ]
  },
  {
   "cell_type": "code",
   "execution_count": 3,
   "metadata": {},
   "outputs": [],
   "source": [
    "num_classes = 10   # 10 classes: 0, 1,..., 9"
   ]
  },
  {
   "cell_type": "markdown",
   "metadata": {},
   "source": [
    "# (1) Data"
   ]
  },
  {
   "cell_type": "code",
   "execution_count": 4,
   "metadata": {},
   "outputs": [
    {
     "name": "stdout",
     "output_type": "stream",
     "text": [
      "60000 train samples\n",
      "10000 test samples\n"
     ]
    }
   ],
   "source": [
    "# the data, shuffled and split between train and test sets\n",
    "(x_train, y_train), (x_test, y_test) = mnist.load_data()\n",
    "\n",
    "x_train = x_train.reshape(60000, 28, 28)\n",
    "x_test = x_test.reshape(10000, 28, 28)\n",
    "x_train = x_train.astype('float32')\n",
    "x_test = x_test.astype('float32')\n",
    "x_train /= 255\n",
    "x_test /= 255\n",
    "print(x_train.shape[0], 'train samples')\n",
    "print(x_test.shape[0], 'test samples')\n",
    "\n",
    "# convert class vectors to binary class matrices\n",
    "y_train = keras.utils.to_categorical(y_train, num_classes)\n",
    "y_test = keras.utils.to_categorical(y_test, num_classes)"
   ]
  },
  {
   "cell_type": "markdown",
   "metadata": {},
   "source": [
    "# (2) Declare model"
   ]
  },
  {
   "cell_type": "code",
   "execution_count": 4,
   "metadata": {},
   "outputs": [
    {
     "name": "stdout",
     "output_type": "stream",
     "text": [
      "_________________________________________________________________\n",
      "Layer (type)                 Output Shape              Param #   \n",
      "=================================================================\n",
      "Input (InputLayer)           (None, 28, 28)            0         \n",
      "_________________________________________________________________\n",
      "flatten (Flatten)            (None, 784)               0         \n",
      "_________________________________________________________________\n",
      "fc1 (Dense)                  (None, 512)               401920    \n",
      "_________________________________________________________________\n",
      "dropout1 (Dropout)           (None, 512)               0         \n",
      "_________________________________________________________________\n",
      "fc2 (Dense)                  (None, 512)               262656    \n",
      "_________________________________________________________________\n",
      "dropout2 (Dropout)           (None, 512)               0         \n",
      "_________________________________________________________________\n",
      "fc3_10ways_softmax (Dense)   (None, 10)                5130      \n",
      "=================================================================\n",
      "Total params: 669,706\n",
      "Trainable params: 669,706\n",
      "Non-trainable params: 0\n",
      "_________________________________________________________________\n"
     ]
    }
   ],
   "source": [
    "# 28x28 MNIST image\n",
    "input_image = Input(shape=(28, 28), name='Input')\n",
    "\n",
    "# matrix ---> vector\n",
    "x = Flatten(name='flatten')(input_image)\n",
    "\n",
    "# FC layers + dropout\n",
    "x = Dense(units=512, activation='relu', name='fc1')(x)\n",
    "x = Dropout(rate=0.2, name='dropout1')(x)\n",
    "\n",
    "x = Dense(units=512, activation='relu', name='fc2')(x)\n",
    "x = Dropout(rate=0.2, name='dropout2')(x)\n",
    "\n",
    "output_label = Dense(units=num_classes, activation='softmax', name='fc3_10ways_softmax')(x)\n",
    "\n",
    "# define model\n",
    "model = Model(inputs=input_image, outputs=output_label, name='mnist_mlp')\n",
    "\n",
    "# print model summary\n",
    "model.summary()"
   ]
  },
  {
   "cell_type": "code",
   "execution_count": 5,
   "metadata": {},
   "outputs": [
    {
     "data": {
      "image/svg+xml": [
       "<svg height=\"553pt\" viewBox=\"0.00 0.00 325.00 553.00\" width=\"325pt\" xmlns=\"http://www.w3.org/2000/svg\" xmlns:xlink=\"http://www.w3.org/1999/xlink\">\n",
       "<g class=\"graph\" id=\"graph0\" transform=\"scale(1 1) rotate(0) translate(4 549)\">\n",
       "<title>G</title>\n",
       "<polygon fill=\"white\" points=\"-4,4 -4,-549 321,-549 321,4 -4,4\" stroke=\"none\"/>\n",
       "<!-- 2960542747952 -->\n",
       "<g class=\"node\" id=\"node1\"><title>2960542747952</title>\n",
       "<polygon fill=\"none\" points=\"25,-498.5 25,-544.5 292,-544.5 292,-498.5 25,-498.5\" stroke=\"black\"/>\n",
       "<text font-family=\"Times New Roman,serif\" font-size=\"14.00\" text-anchor=\"middle\" x=\"81.5\" y=\"-517.8\">Input: InputLayer</text>\n",
       "<polyline fill=\"none\" points=\"138,-498.5 138,-544.5 \" stroke=\"black\"/>\n",
       "<text font-family=\"Times New Roman,serif\" font-size=\"14.00\" text-anchor=\"middle\" x=\"166\" y=\"-529.3\">input:</text>\n",
       "<polyline fill=\"none\" points=\"138,-521.5 194,-521.5 \" stroke=\"black\"/>\n",
       "<text font-family=\"Times New Roman,serif\" font-size=\"14.00\" text-anchor=\"middle\" x=\"166\" y=\"-506.3\">output:</text>\n",
       "<polyline fill=\"none\" points=\"194,-498.5 194,-544.5 \" stroke=\"black\"/>\n",
       "<text font-family=\"Times New Roman,serif\" font-size=\"14.00\" text-anchor=\"middle\" x=\"243\" y=\"-529.3\">(None, 28, 28)</text>\n",
       "<polyline fill=\"none\" points=\"194,-521.5 292,-521.5 \" stroke=\"black\"/>\n",
       "<text font-family=\"Times New Roman,serif\" font-size=\"14.00\" text-anchor=\"middle\" x=\"243\" y=\"-506.3\">(None, 28, 28)</text>\n",
       "</g>\n",
       "<!-- 2960542747896 -->\n",
       "<g class=\"node\" id=\"node2\"><title>2960542747896</title>\n",
       "<polygon fill=\"none\" points=\"34,-415.5 34,-461.5 283,-461.5 283,-415.5 34,-415.5\" stroke=\"black\"/>\n",
       "<text font-family=\"Times New Roman,serif\" font-size=\"14.00\" text-anchor=\"middle\" x=\"81.5\" y=\"-434.8\">flatten: Flatten</text>\n",
       "<polyline fill=\"none\" points=\"129,-415.5 129,-461.5 \" stroke=\"black\"/>\n",
       "<text font-family=\"Times New Roman,serif\" font-size=\"14.00\" text-anchor=\"middle\" x=\"157\" y=\"-446.3\">input:</text>\n",
       "<polyline fill=\"none\" points=\"129,-438.5 185,-438.5 \" stroke=\"black\"/>\n",
       "<text font-family=\"Times New Roman,serif\" font-size=\"14.00\" text-anchor=\"middle\" x=\"157\" y=\"-423.3\">output:</text>\n",
       "<polyline fill=\"none\" points=\"185,-415.5 185,-461.5 \" stroke=\"black\"/>\n",
       "<text font-family=\"Times New Roman,serif\" font-size=\"14.00\" text-anchor=\"middle\" x=\"234\" y=\"-446.3\">(None, 28, 28)</text>\n",
       "<polyline fill=\"none\" points=\"185,-438.5 283,-438.5 \" stroke=\"black\"/>\n",
       "<text font-family=\"Times New Roman,serif\" font-size=\"14.00\" text-anchor=\"middle\" x=\"234\" y=\"-423.3\">(None, 784)</text>\n",
       "</g>\n",
       "<!-- 2960542747952&#45;&gt;2960542747896 -->\n",
       "<g class=\"edge\" id=\"edge1\"><title>2960542747952-&gt;2960542747896</title>\n",
       "<path d=\"M158.5,-498.366C158.5,-490.152 158.5,-480.658 158.5,-471.725\" fill=\"none\" stroke=\"black\"/>\n",
       "<polygon fill=\"black\" points=\"162,-471.607 158.5,-461.607 155,-471.607 162,-471.607\" stroke=\"black\"/>\n",
       "</g>\n",
       "<!-- 2960542748512 -->\n",
       "<g class=\"node\" id=\"node3\"><title>2960542748512</title>\n",
       "<polygon fill=\"none\" points=\"51,-332.5 51,-378.5 266,-378.5 266,-332.5 51,-332.5\" stroke=\"black\"/>\n",
       "<text font-family=\"Times New Roman,serif\" font-size=\"14.00\" text-anchor=\"middle\" x=\"89\" y=\"-351.8\">fc1: Dense</text>\n",
       "<polyline fill=\"none\" points=\"127,-332.5 127,-378.5 \" stroke=\"black\"/>\n",
       "<text font-family=\"Times New Roman,serif\" font-size=\"14.00\" text-anchor=\"middle\" x=\"155\" y=\"-363.3\">input:</text>\n",
       "<polyline fill=\"none\" points=\"127,-355.5 183,-355.5 \" stroke=\"black\"/>\n",
       "<text font-family=\"Times New Roman,serif\" font-size=\"14.00\" text-anchor=\"middle\" x=\"155\" y=\"-340.3\">output:</text>\n",
       "<polyline fill=\"none\" points=\"183,-332.5 183,-378.5 \" stroke=\"black\"/>\n",
       "<text font-family=\"Times New Roman,serif\" font-size=\"14.00\" text-anchor=\"middle\" x=\"224.5\" y=\"-363.3\">(None, 784)</text>\n",
       "<polyline fill=\"none\" points=\"183,-355.5 266,-355.5 \" stroke=\"black\"/>\n",
       "<text font-family=\"Times New Roman,serif\" font-size=\"14.00\" text-anchor=\"middle\" x=\"224.5\" y=\"-340.3\">(None, 512)</text>\n",
       "</g>\n",
       "<!-- 2960542747896&#45;&gt;2960542748512 -->\n",
       "<g class=\"edge\" id=\"edge2\"><title>2960542747896-&gt;2960542748512</title>\n",
       "<path d=\"M158.5,-415.366C158.5,-407.152 158.5,-397.658 158.5,-388.725\" fill=\"none\" stroke=\"black\"/>\n",
       "<polygon fill=\"black\" points=\"162,-388.607 158.5,-378.607 155,-388.607 162,-388.607\" stroke=\"black\"/>\n",
       "</g>\n",
       "<!-- 2960542748344 -->\n",
       "<g class=\"node\" id=\"node4\"><title>2960542748344</title>\n",
       "<polygon fill=\"none\" points=\"28,-249.5 28,-295.5 289,-295.5 289,-249.5 28,-249.5\" stroke=\"black\"/>\n",
       "<text font-family=\"Times New Roman,serif\" font-size=\"14.00\" text-anchor=\"middle\" x=\"89\" y=\"-268.8\">dropout1: Dropout</text>\n",
       "<polyline fill=\"none\" points=\"150,-249.5 150,-295.5 \" stroke=\"black\"/>\n",
       "<text font-family=\"Times New Roman,serif\" font-size=\"14.00\" text-anchor=\"middle\" x=\"178\" y=\"-280.3\">input:</text>\n",
       "<polyline fill=\"none\" points=\"150,-272.5 206,-272.5 \" stroke=\"black\"/>\n",
       "<text font-family=\"Times New Roman,serif\" font-size=\"14.00\" text-anchor=\"middle\" x=\"178\" y=\"-257.3\">output:</text>\n",
       "<polyline fill=\"none\" points=\"206,-249.5 206,-295.5 \" stroke=\"black\"/>\n",
       "<text font-family=\"Times New Roman,serif\" font-size=\"14.00\" text-anchor=\"middle\" x=\"247.5\" y=\"-280.3\">(None, 512)</text>\n",
       "<polyline fill=\"none\" points=\"206,-272.5 289,-272.5 \" stroke=\"black\"/>\n",
       "<text font-family=\"Times New Roman,serif\" font-size=\"14.00\" text-anchor=\"middle\" x=\"247.5\" y=\"-257.3\">(None, 512)</text>\n",
       "</g>\n",
       "<!-- 2960542748512&#45;&gt;2960542748344 -->\n",
       "<g class=\"edge\" id=\"edge3\"><title>2960542748512-&gt;2960542748344</title>\n",
       "<path d=\"M158.5,-332.366C158.5,-324.152 158.5,-314.658 158.5,-305.725\" fill=\"none\" stroke=\"black\"/>\n",
       "<polygon fill=\"black\" points=\"162,-305.607 158.5,-295.607 155,-305.607 162,-305.607\" stroke=\"black\"/>\n",
       "</g>\n",
       "<!-- 2960542753568 -->\n",
       "<g class=\"node\" id=\"node5\"><title>2960542753568</title>\n",
       "<polygon fill=\"none\" points=\"51,-166.5 51,-212.5 266,-212.5 266,-166.5 51,-166.5\" stroke=\"black\"/>\n",
       "<text font-family=\"Times New Roman,serif\" font-size=\"14.00\" text-anchor=\"middle\" x=\"89\" y=\"-185.8\">fc2: Dense</text>\n",
       "<polyline fill=\"none\" points=\"127,-166.5 127,-212.5 \" stroke=\"black\"/>\n",
       "<text font-family=\"Times New Roman,serif\" font-size=\"14.00\" text-anchor=\"middle\" x=\"155\" y=\"-197.3\">input:</text>\n",
       "<polyline fill=\"none\" points=\"127,-189.5 183,-189.5 \" stroke=\"black\"/>\n",
       "<text font-family=\"Times New Roman,serif\" font-size=\"14.00\" text-anchor=\"middle\" x=\"155\" y=\"-174.3\">output:</text>\n",
       "<polyline fill=\"none\" points=\"183,-166.5 183,-212.5 \" stroke=\"black\"/>\n",
       "<text font-family=\"Times New Roman,serif\" font-size=\"14.00\" text-anchor=\"middle\" x=\"224.5\" y=\"-197.3\">(None, 512)</text>\n",
       "<polyline fill=\"none\" points=\"183,-189.5 266,-189.5 \" stroke=\"black\"/>\n",
       "<text font-family=\"Times New Roman,serif\" font-size=\"14.00\" text-anchor=\"middle\" x=\"224.5\" y=\"-174.3\">(None, 512)</text>\n",
       "</g>\n",
       "<!-- 2960542748344&#45;&gt;2960542753568 -->\n",
       "<g class=\"edge\" id=\"edge4\"><title>2960542748344-&gt;2960542753568</title>\n",
       "<path d=\"M158.5,-249.366C158.5,-241.152 158.5,-231.658 158.5,-222.725\" fill=\"none\" stroke=\"black\"/>\n",
       "<polygon fill=\"black\" points=\"162,-222.607 158.5,-212.607 155,-222.607 162,-222.607\" stroke=\"black\"/>\n",
       "</g>\n",
       "<!-- 2960542753064 -->\n",
       "<g class=\"node\" id=\"node6\"><title>2960542753064</title>\n",
       "<polygon fill=\"none\" points=\"28,-83.5 28,-129.5 289,-129.5 289,-83.5 28,-83.5\" stroke=\"black\"/>\n",
       "<text font-family=\"Times New Roman,serif\" font-size=\"14.00\" text-anchor=\"middle\" x=\"89\" y=\"-102.8\">dropout2: Dropout</text>\n",
       "<polyline fill=\"none\" points=\"150,-83.5 150,-129.5 \" stroke=\"black\"/>\n",
       "<text font-family=\"Times New Roman,serif\" font-size=\"14.00\" text-anchor=\"middle\" x=\"178\" y=\"-114.3\">input:</text>\n",
       "<polyline fill=\"none\" points=\"150,-106.5 206,-106.5 \" stroke=\"black\"/>\n",
       "<text font-family=\"Times New Roman,serif\" font-size=\"14.00\" text-anchor=\"middle\" x=\"178\" y=\"-91.3\">output:</text>\n",
       "<polyline fill=\"none\" points=\"206,-83.5 206,-129.5 \" stroke=\"black\"/>\n",
       "<text font-family=\"Times New Roman,serif\" font-size=\"14.00\" text-anchor=\"middle\" x=\"247.5\" y=\"-114.3\">(None, 512)</text>\n",
       "<polyline fill=\"none\" points=\"206,-106.5 289,-106.5 \" stroke=\"black\"/>\n",
       "<text font-family=\"Times New Roman,serif\" font-size=\"14.00\" text-anchor=\"middle\" x=\"247.5\" y=\"-91.3\">(None, 512)</text>\n",
       "</g>\n",
       "<!-- 2960542753568&#45;&gt;2960542753064 -->\n",
       "<g class=\"edge\" id=\"edge5\"><title>2960542753568-&gt;2960542753064</title>\n",
       "<path d=\"M158.5,-166.366C158.5,-158.152 158.5,-148.658 158.5,-139.725\" fill=\"none\" stroke=\"black\"/>\n",
       "<polygon fill=\"black\" points=\"162,-139.607 158.5,-129.607 155,-139.607 162,-139.607\" stroke=\"black\"/>\n",
       "</g>\n",
       "<!-- 2954046270712 -->\n",
       "<g class=\"node\" id=\"node7\"><title>2954046270712</title>\n",
       "<polygon fill=\"none\" points=\"0,-0.5 0,-46.5 317,-46.5 317,-0.5 0,-0.5\" stroke=\"black\"/>\n",
       "<text font-family=\"Times New Roman,serif\" font-size=\"14.00\" text-anchor=\"middle\" x=\"89\" y=\"-19.8\">fc3_10ways_softmax: Dense</text>\n",
       "<polyline fill=\"none\" points=\"178,-0.5 178,-46.5 \" stroke=\"black\"/>\n",
       "<text font-family=\"Times New Roman,serif\" font-size=\"14.00\" text-anchor=\"middle\" x=\"206\" y=\"-31.3\">input:</text>\n",
       "<polyline fill=\"none\" points=\"178,-23.5 234,-23.5 \" stroke=\"black\"/>\n",
       "<text font-family=\"Times New Roman,serif\" font-size=\"14.00\" text-anchor=\"middle\" x=\"206\" y=\"-8.3\">output:</text>\n",
       "<polyline fill=\"none\" points=\"234,-0.5 234,-46.5 \" stroke=\"black\"/>\n",
       "<text font-family=\"Times New Roman,serif\" font-size=\"14.00\" text-anchor=\"middle\" x=\"275.5\" y=\"-31.3\">(None, 512)</text>\n",
       "<polyline fill=\"none\" points=\"234,-23.5 317,-23.5 \" stroke=\"black\"/>\n",
       "<text font-family=\"Times New Roman,serif\" font-size=\"14.00\" text-anchor=\"middle\" x=\"275.5\" y=\"-8.3\">(None, 10)</text>\n",
       "</g>\n",
       "<!-- 2960542753064&#45;&gt;2954046270712 -->\n",
       "<g class=\"edge\" id=\"edge6\"><title>2960542753064-&gt;2954046270712</title>\n",
       "<path d=\"M158.5,-83.3664C158.5,-75.1516 158.5,-65.6579 158.5,-56.7252\" fill=\"none\" stroke=\"black\"/>\n",
       "<polygon fill=\"black\" points=\"162,-56.6068 158.5,-46.6068 155,-56.6069 162,-56.6068\" stroke=\"black\"/>\n",
       "</g>\n",
       "</g>\n",
       "</svg>"
      ],
      "text/plain": [
       "<IPython.core.display.SVG object>"
      ]
     },
     "execution_count": 5,
     "metadata": {},
     "output_type": "execute_result"
    }
   ],
   "source": [
    "SVG(model_to_dot(model, show_shapes=True).create(prog='dot', format='svg'))"
   ]
  },
  {
   "cell_type": "markdown",
   "metadata": {},
   "source": [
    "# (3) Train defined model\n",
    "- Note that the training history including loss and accuracy will be save in 'history' variable\n",
    "- In case your system runs out of memory (OOM), try to decrease batch size"
   ]
  },
  {
   "cell_type": "code",
   "execution_count": 40,
   "metadata": {},
   "outputs": [
    {
     "name": "stdout",
     "output_type": "stream",
     "text": [
      "Train on 60000 samples, validate on 10000 samples\n",
      "Epoch 1/30\n",
      "60000/60000 [==============================] - 3s 57us/step - loss: 1.2237 - acc: 0.6756 - val_loss: 0.5462 - val_acc: 0.8630\n",
      "Epoch 2/30\n",
      "60000/60000 [==============================] - 3s 47us/step - loss: 0.5363 - acc: 0.8468 - val_loss: 0.3791 - val_acc: 0.8965\n",
      "Epoch 3/30\n",
      "60000/60000 [==============================] - 3s 48us/step - loss: 0.4318 - acc: 0.8745 - val_loss: 0.3262 - val_acc: 0.9072\n",
      "Epoch 4/30\n",
      "60000/60000 [==============================] - 3s 49us/step - loss: 0.3814 - acc: 0.8895 - val_loss: 0.2971 - val_acc: 0.9147\n",
      "Epoch 5/30\n",
      "60000/60000 [==============================] - 3s 47us/step - loss: 0.3462 - acc: 0.9001 - val_loss: 0.2764 - val_acc: 0.9204\n",
      "Epoch 6/30\n",
      "60000/60000 [==============================] - 3s 48us/step - loss: 0.3233 - acc: 0.9061 - val_loss: 0.2590 - val_acc: 0.9244\n",
      "Epoch 7/30\n",
      "60000/60000 [==============================] - 3s 48us/step - loss: 0.3013 - acc: 0.9122 - val_loss: 0.2439 - val_acc: 0.9295\n",
      "Epoch 8/30\n",
      "60000/60000 [==============================] - 3s 48us/step - loss: 0.2859 - acc: 0.9181 - val_loss: 0.2312 - val_acc: 0.9327\n",
      "Epoch 9/30\n",
      "60000/60000 [==============================] - 3s 48us/step - loss: 0.2721 - acc: 0.9217 - val_loss: 0.2207 - val_acc: 0.9361\n",
      "Epoch 10/30\n",
      "60000/60000 [==============================] - 3s 48us/step - loss: 0.2608 - acc: 0.9247 - val_loss: 0.2109 - val_acc: 0.9389\n",
      "Epoch 11/30\n",
      "60000/60000 [==============================] - 3s 47us/step - loss: 0.2469 - acc: 0.9290 - val_loss: 0.2008 - val_acc: 0.9409\n",
      "Epoch 12/30\n",
      "60000/60000 [==============================] - 3s 48us/step - loss: 0.2363 - acc: 0.9320 - val_loss: 0.1924 - val_acc: 0.9435\n",
      "Epoch 13/30\n",
      "60000/60000 [==============================] - 3s 49us/step - loss: 0.2244 - acc: 0.9361 - val_loss: 0.1850 - val_acc: 0.9457\n",
      "Epoch 14/30\n",
      "60000/60000 [==============================] - 3s 49us/step - loss: 0.2159 - acc: 0.9374 - val_loss: 0.1792 - val_acc: 0.9484\n",
      "Epoch 15/30\n",
      "60000/60000 [==============================] - 3s 50us/step - loss: 0.2090 - acc: 0.9400 - val_loss: 0.1727 - val_acc: 0.9495\n",
      "Epoch 16/30\n",
      "60000/60000 [==============================] - 3s 47us/step - loss: 0.2008 - acc: 0.9417 - val_loss: 0.1662 - val_acc: 0.9514\n",
      "Epoch 17/30\n",
      "60000/60000 [==============================] - 3s 49us/step - loss: 0.1960 - acc: 0.9431 - val_loss: 0.1605 - val_acc: 0.9528\n",
      "Epoch 18/30\n",
      "60000/60000 [==============================] - 3s 47us/step - loss: 0.1886 - acc: 0.9457 - val_loss: 0.1561 - val_acc: 0.9538\n",
      "Epoch 19/30\n",
      "60000/60000 [==============================] - 3s 49us/step - loss: 0.1821 - acc: 0.9471 - val_loss: 0.1512 - val_acc: 0.9557\n",
      "Epoch 20/30\n",
      "60000/60000 [==============================] - 3s 46us/step - loss: 0.1772 - acc: 0.9489 - val_loss: 0.1468 - val_acc: 0.9568\n",
      "Epoch 21/30\n",
      "60000/60000 [==============================] - 3s 44us/step - loss: 0.1711 - acc: 0.9501 - val_loss: 0.1426 - val_acc: 0.9576\n",
      "Epoch 22/30\n",
      "60000/60000 [==============================] - 3s 45us/step - loss: 0.1668 - acc: 0.9515 - val_loss: 0.1388 - val_acc: 0.9602\n",
      "Epoch 23/30\n",
      "60000/60000 [==============================] - 3s 45us/step - loss: 0.1631 - acc: 0.9527 - val_loss: 0.1357 - val_acc: 0.9605\n",
      "Epoch 24/30\n",
      "60000/60000 [==============================] - 3s 46us/step - loss: 0.1571 - acc: 0.9549 - val_loss: 0.1332 - val_acc: 0.9614\n",
      "Epoch 25/30\n",
      "60000/60000 [==============================] - 3s 47us/step - loss: 0.1542 - acc: 0.9554 - val_loss: 0.1302 - val_acc: 0.9620\n",
      "Epoch 26/30\n",
      "60000/60000 [==============================] - 3s 49us/step - loss: 0.1502 - acc: 0.9568 - val_loss: 0.1271 - val_acc: 0.9631\n",
      "Epoch 27/30\n",
      "60000/60000 [==============================] - 3s 46us/step - loss: 0.1474 - acc: 0.9578 - val_loss: 0.1242 - val_acc: 0.9639\n",
      "Epoch 28/30\n",
      "60000/60000 [==============================] - 3s 44us/step - loss: 0.1432 - acc: 0.9580 - val_loss: 0.1211 - val_acc: 0.9647\n",
      "Epoch 29/30\n",
      "60000/60000 [==============================] - 3s 48us/step - loss: 0.1390 - acc: 0.9588 - val_loss: 0.1188 - val_acc: 0.9651\n",
      "Epoch 30/30\n",
      "60000/60000 [==============================] - 3s 49us/step - loss: 0.1351 - acc: 0.9607 - val_loss: 0.1174 - val_acc: 0.9655\n",
      "> training time is 1.4402 minutes\n"
     ]
    }
   ],
   "source": [
    "# declare learning rate, loss function, and model metric\n",
    "loss = 'categorical_crossentropy'\n",
    "lr = 0.01\n",
    "model.compile(loss=loss, optimizer=SGD(lr=lr), metrics=['accuracy'])\n",
    "\n",
    "# train the model\n",
    "batch_size = 128\n",
    "epochs = 30\n",
    "\n",
    "starting_time = time.time()\n",
    "history = model.fit(x_train, y_train,\n",
    "                    validation_data=(x_test, y_test),\n",
    "                    batch_size=batch_size,\n",
    "                    epochs=epochs)\n",
    "print('> training time is %.4f minutes' % ((time.time() - starting_time)/60))"
   ]
  },
  {
   "cell_type": "markdown",
   "metadata": {},
   "source": [
    "### Training time\n",
    "- Training time with GTX 1080 is about 1.4402 minutes for 30 epochs\n",
    "- Training time with Core i7 is around 3.0493 minutes for 30 epochs"
   ]
  },
  {
   "cell_type": "markdown",
   "metadata": {},
   "source": [
    "# (4) Evaluate trained model"
   ]
  },
  {
   "cell_type": "code",
   "execution_count": 7,
   "metadata": {},
   "outputs": [
    {
     "name": "stdout",
     "output_type": "stream",
     "text": [
      "10000/10000 [==============================] - 1s 61us/step\n",
      "Test loss: 0.11284465673938393\n",
      "Test accuracy: 0.9657\n"
     ]
    }
   ],
   "source": [
    "score = model.evaluate(x_test, y_test)\n",
    "print('Test loss:', score[0])\n",
    "print('Test accuracy:', score[1])"
   ]
  },
  {
   "cell_type": "code",
   "execution_count": 32,
   "metadata": {},
   "outputs": [
    {
     "data": {
      "image/png": "[encoded data removed]",
      "text/plain": [
       "<matplotlib.figure.Figure at 0x1e003c51128>"
      ]
     },
     "metadata": {},
     "output_type": "display_data"
    }
   ],
   "source": [
    "# select a test image randomly\n",
    "random_test_index = np.random.choice(x_test.shape[0], size=1)[0]\n",
    "test_img = x_test[random_test_index]\n",
    "test_label = np.argmax(y_test[random_test_index])\n",
    "\n",
    "# predict test image with trained model\n",
    "pred_label = model.predict(np.expand_dims(test_img, axis=0))\n",
    "pred_label = np.argmax(pred_label)\n",
    "\n",
    "plt.imshow(test_img, cmap='gray')\n",
    "plt.title('true label = %d, predicted label = %d' % (test_label, pred_label))\n",
    "plt.show()"
   ]
  }
 ],
 "metadata": {
  "anaconda-cloud": {},
  "kernelspec": {
   "display_name": "Python [conda root]",
   "language": "python",
   "name": "conda-root-py"
  },
  "language_info": {
   "codemirror_mode": {
    "name": "ipython",
    "version": 3
   },
   "file_extension": ".py",
   "mimetype": "text/x-python",
   "name": "python",
   "nbconvert_exporter": "python",
   "pygments_lexer": "ipython3",
   "version": "3.5.1"
  }
 },
 "nbformat": 4,
 "nbformat_minor": 2
}
